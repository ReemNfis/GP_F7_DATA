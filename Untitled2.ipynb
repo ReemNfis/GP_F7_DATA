{
  "metadata": {
    "kernelspec": {
      "name": "python",
      "display_name": "Python (Pyodide)",
      "language": "python"
    },
    "language_info": {
      "codemirror_mode": {
        "name": "python",
        "version": 3
      },
      "file_extension": ".py",
      "mimetype": "text/x-python",
      "name": "python",
      "nbconvert_exporter": "python",
      "pygments_lexer": "ipython3",
      "version": "3.8"
    }
  },
  "nbformat_minor": 4,
  "nbformat": 4,
  "cells": [
    {
      "cell_type": "code",
      "source": "import pandas as pd\n\n# Load data from CSV file\nfile_path = 'traffic_index.csv'  # Ensure this path is correct\ndata = pd.read_csv(file_path)\n\n# Display all rows and columns\npd.set_option('display.max_rows', None)  # Display all rows\npd.set_option('display.max_columns', None)  # Display all columns\n\n# Filter the data to display only Riyadh city\nClean_riyadh_data = data[data['City'] == 'Riyadh']\n\n# Drop the city column\nClean_riyadh_data = Clean_riyadh_data.drop(columns=['City'])\n\n# Convert the 'Datetime' column to datetime format\nClean_riyadh_data['Datetime'] = pd.to_datetime(Clean_riyadh_data['Datetime'])\n\n# Convert only numeric columns to numeric, skipping 'Datetime'\nnumeric_columns = Clean_riyadh_data.select_dtypes(include=['float64', 'int64']).columns\nClean_riyadh_data[numeric_columns] = Clean_riyadh_data[numeric_columns].apply(pd.to_numeric, errors='coerce')\n\n# Calculate the average of numeric columns for filling empty values\naverage_values = Clean_riyadh_data[numeric_columns].mean()\n\n# Fill empty values with the calculated averages\nClean_riyadh_data.fillna(average_values, inplace=True)\n\n# Optionally, display the cleaned data\nprint(Clean_riyadh_data.head())\n\n# Save the cleaned data to a new file\nClean_riyadh_data.to_csv('cleaned_riyadh_traffic_data.csv', index=False)",
      "metadata": {
        "trusted": true
      },
      "outputs": [
        {
          "name": "stderr",
          "text": "<ipython-input-1-9f938375bbd5>:1: DeprecationWarning: \nPyarrow will become a required dependency of pandas in the next major release of pandas (pandas 3.0),\n(to allow more performant data types, such as the Arrow string type, and better interoperability with other libraries)\nbut was not found to be installed on your system.\nIf this would cause problems for you,\nplease provide us feedback at https://github.com/pandas-dev/pandas/issues/54466\n        \n  import pandas as pd\n",
          "output_type": "stream"
        },
        {
          "name": "stdout",
          "text": "                 Datetime  TrafficIndexLive  JamsCount  JamsDelay  JamsLength  \\\n57947 2022-12-16 12:46:30                 5         33      115.0        13.7   \n57948 2022-12-16 13:46:30                 6         57      197.6        39.4   \n57949 2022-12-16 14:46:30                10         78      311.7        72.7   \n57950 2022-12-16 15:46:30                13        127      508.1       105.1   \n57951 2022-12-16 16:46:00                21        184      838.1       153.4   \n\n       TrafficIndexWeekAgo  TravelTimeHistoric  TravelTimeLive  \n57947                    6           72.786763       74.215896  \n57948                   11           72.786763       74.215896  \n57949                   17           72.786763       74.215896  \n57950                   17           72.786763       74.215896  \n57951                   26           72.786763       74.215896  \n",
          "output_type": "stream"
        }
      ],
      "execution_count": 1
    },
    {
      "cell_type": "code",
      "source": "import pandas as pd\n\n# Load data from CSV file\nfile_path = 'traffic_index.csv'  # Ensure this path is correct\ndata = pd.read_csv(file_path)\n\n# Display all rows and columns\npd.set_option('display.max_rows', None)  # Display all rows\npd.set_option('display.max_columns', None)  # Display all columns\n\n# Filter the data to display only Riyadh city\nClean_riyadh_data = data[data['City'] == 'Riyadh']\n\n# Drop the city column\nClean_riyadh_data = Clean_riyadh_data.drop(columns=['City'])\n\n# Convert the 'Datetime' column to datetime format\nClean_riyadh_data['Datetime'] = pd.to_datetime(Clean_riyadh_data['Datetime'])\n\n# Extract the date and time\nClean_riyadh_data['date'] = Clean_riyadh_data['Datetime'].dt.date\nClean_riyadh_data['Time'] = Clean_riyadh_data['Datetime'].dt.time\n\n# Drop the original 'Datetime' column\nClean_riyadh_data = Clean_riyadh_data.drop(columns=['Datetime'])\n\n# Convert only numeric columns to numeric, skipping 'date' and 'Time'\nnumeric_columns = Clean_riyadh_data.select_dtypes(include=['float64', 'int64']).columns\nClean_riyadh_data[numeric_columns] = Clean_riyadh_data[numeric_columns].apply(pd.to_numeric, errors='coerce')\n\n# Calculate the average of numeric columns for filling empty values\naverage_values = Clean_riyadh_data[numeric_columns].mean()\n\n# Fill empty values with the calculated averages\nClean_riyadh_data.fillna(average_values, inplace=True)\n\n# Optionally, display the cleaned data\nprint(Clean_riyadh_data.head())\n\n# Save the cleaned data to a new file\nClean_riyadh_data.to_csv('riyadh_traffic_data.csv', index=False)",
      "metadata": {
        "trusted": true
      },
      "outputs": [
        {
          "name": "stdout",
          "text": "       TrafficIndexLive  JamsCount  JamsDelay  JamsLength  \\\n57947                 5         33      115.0        13.7   \n57948                 6         57      197.6        39.4   \n57949                10         78      311.7        72.7   \n57950                13        127      508.1       105.1   \n57951                21        184      838.1       153.4   \n\n       TrafficIndexWeekAgo  TravelTimeHistoric  TravelTimeLive        date  \\\n57947                    6           72.786763       74.215896  2022-12-16   \n57948                   11           72.786763       74.215896  2022-12-16   \n57949                   17           72.786763       74.215896  2022-12-16   \n57950                   17           72.786763       74.215896  2022-12-16   \n57951                   26           72.786763       74.215896  2022-12-16   \n\n           Time  \n57947  12:46:30  \n57948  13:46:30  \n57949  14:46:30  \n57950  15:46:30  \n57951  16:46:00  \n",
          "output_type": "stream"
        }
      ],
      "execution_count": 2
    },
    {
      "cell_type": "code",
      "source": "",
      "metadata": {
        "trusted": true
      },
      "outputs": [],
      "execution_count": null
    }
  ]
}